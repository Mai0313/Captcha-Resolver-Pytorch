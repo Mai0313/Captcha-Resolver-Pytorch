{
 "cells": [
  {
   "cell_type": "markdown",
   "metadata": {},
   "source": [
    "## Data Preparation\n",
    "### Separate raw data into case_* under ./data"
   ]
  },
  {
   "cell_type": "code",
   "execution_count": null,
   "metadata": {},
   "outputs": [],
   "source": [
    "import datetime\n",
    "import glob\n",
    "import os\n",
    "import shutil\n",
    "\n",
    "import autoroot\n",
    "import matplotlib.pyplot as plt\n",
    "import numpy as np\n",
    "import pandas as pd\n",
    "from PIL import Image"
   ]
  },
  {
   "cell_type": "code",
   "execution_count": null,
   "metadata": {},
   "outputs": [],
   "source": [
    "def get_seperated_data(data_path, mask_path, target_path):\n",
    "    filenames = [f for f in os.listdir(data_path)]\n",
    "    for filename in filenames:\n",
    "        case_num = filename.split('.')[0]\n",
    "        os.makedirs(f\"{target_path}/info/case_{case_num}\")\n",
    "        shutil.copy(f\"{data_path}/{filename}\", f\"{target_path}/info/case_{case_num}/nails.png\")\n",
    "        shutil.copy(f\"{mask_path}/{filename}\", f\"{target_path}/info/case_{case_num}/nails_mask.png\")\n",
    "    print(\"Done\")\n",
    "\n",
    "\n",
    "def get_train_data(path):\n",
    "    case = list(range(1, 54))\n",
    "    data = pd.DataFrame([case])\n",
    "    data.to_csv(f'{path}/train_cases.csv', index = None, header = None)\n",
    "\n",
    "\n",
    "def get_val_data(path):\n",
    "    case = list(range(54, 64))\n",
    "    data = pd.DataFrame([case])\n",
    "    data.to_csv(f'{path}/val_cases.csv', index = None, header = None)\n",
    "\n",
    "\n",
    "def main(tags):\n",
    "    sep_date = datetime.datetime.now().strftime(\"%Y%m%d\")\n",
    "    target_path = f'../data/{sep_date}_nails'\n",
    "    data_path = f'../data/{tags}/images'\n",
    "    mask_path = f'../data/{tags}/masks'\n",
    "    os.makedirs(target_path, exist_ok=True)\n",
    "    get_train_data(target_path)\n",
    "    get_val_data(target_path)\n",
    "    get_seperated_data(data_path, mask_path, target_path)\n",
    "\n",
    "\n",
    "if __name__ == \"__main__\":\n",
    "    main('raw_data')"
   ]
  },
  {
   "cell_type": "markdown",
   "metadata": {},
   "source": [
    "### Parse Datasets into .npz format"
   ]
  },
  {
   "cell_type": "code",
   "execution_count": null,
   "metadata": {},
   "outputs": [],
   "source": [
    "def gen_data(data_dir):\n",
    "    \"\"\"\n",
    "    This function includes three things: Parsing data to separate data, parse data.\n",
    "    \"\"\"\n",
    "    case_folders = glob.glob(f\"{data_dir}/case_*\")\n",
    "\n",
    "    for case_folder in case_folders:\n",
    "\n",
    "        case_id = int(case_folder.split('_')[-1])\n",
    "\n",
    "        nails_img = Image.open(f\"{case_folder}/nails.png\")\n",
    "        nails_array = np.array(nails_img)\n",
    "\n",
    "        nails_mask_img = Image.open(f\"{case_folder}/nails_mask.png\")\n",
    "        nails_mask_array = np.array(nails_mask_img)\n",
    "\n",
    "        np.savez(f\"{case_folder}/nails.npz\",\n",
    "                 nails=nails_array,\n",
    "                 nails_mask=nails_mask_array,\n",
    "                 case_id=case_id)\n",
    "\n",
    "\n",
    "if __name__ == '__main__':\n",
    "    gen_data('../data/20230716_nails/info')"
   ]
  },
  {
   "cell_type": "markdown",
   "metadata": {},
   "source": [
    "### Revocer data from .npz file\n",
    "\n",
    "#### Array (.npz) -> Picture (png)"
   ]
  },
  {
   "cell_type": "code",
   "execution_count": null,
   "metadata": {},
   "outputs": [],
   "source": [
    "def get_original_pics(data_dir):\n",
    "    \"\"\"\n",
    "    This function includes three things: Parsing data to separate data, parse data.\n",
    "    \"\"\"\n",
    "    case_folders = glob.glob(f\"{data_dir}/case_*\")\n",
    "\n",
    "    for case_folder in case_folders:\n",
    "\n",
    "        case_id = int(case_folder.split('_')[-1])\n",
    "\n",
    "        image_data = np.load(f\"{case_folder}/nails.npz\", allow_pickle=True)\n",
    "\n",
    "        nails = image_data['nails']\n",
    "        mask = image_data['nails_mask']\n",
    "        plt.imshow(nails)\n",
    "        plt.show()\n",
    "\n",
    "\n",
    "if __name__ == '__main__':\n",
    "    get_original_pics('../data/20230716_nails/info')"
   ]
  }
 ],
 "metadata": {
  "kernelspec": {
   "display_name": "base",
   "language": "python",
   "name": "python3"
  },
  "language_info": {
   "codemirror_mode": {
    "name": "ipython",
    "version": 3
   },
   "file_extension": ".py",
   "mimetype": "text/x-python",
   "name": "python",
   "nbconvert_exporter": "python",
   "pygments_lexer": "ipython3",
   "version": "3.9.15"
  }
 },
 "nbformat": 4,
 "nbformat_minor": 2
}
