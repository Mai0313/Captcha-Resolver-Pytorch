{
 "cells": [
  {
   "cell_type": "code",
   "execution_count": null,
   "metadata": {},
   "outputs": [],
   "source": [
    "import os \n",
    "import glob\n",
    "import autoroot\n",
    "import shutil\n",
    "import datetime\n",
    "import pandas as pd\n",
    "import datetime\n",
    "\n",
    "\n",
    "def get_seperated_data(data_path, mask_path, target_path):\n",
    "    filenames = [f for f in os.listdir(data_path)]\n",
    "    for filename in filenames:\n",
    "        case_num = filename.split('.')[0]\n",
    "        os.makedirs(f\"{target_path}/info/case_{case_num}\")\n",
    "        shutil.copy(f\"{data_path}/{filename}\", f\"{target_path}/info/case_{case_num}/nails.png\")\n",
    "        shutil.copy(f\"{mask_path}/{filename}\", f\"{target_path}/info/case_{case_num}/nails_mask.png\")\n",
    "    print(\"Done\")\n",
    "\n",
    "def get_train_data(path):\n",
    "    case = list(range(1, 54))\n",
    "    data = pd.DataFrame([case])\n",
    "    data.to_csv(f'{path}/train_cases.csv', index = None, header = None)\n",
    "\n",
    "def get_val_data(path):\n",
    "    case = list(range(54, 64))\n",
    "    data = pd.DataFrame([case])\n",
    "    data.to_csv(f'{path}/val_cases.csv', index = None, header = None)\n",
    "\n",
    "def main(tags):\n",
    "    sep_date = datetime.datetime.now().strftime(\"%Y%m%d\")\n",
    "    target_path = f'../data/{sep_date}_nails'\n",
    "    data_path = f'../data/{tags}/images'\n",
    "    mask_path = f'../data/{tags}/masks'\n",
    "    os.makedirs(target_path, exist_ok=True)\n",
    "    get_train_data(target_path)\n",
    "    get_val_data(target_path)\n",
    "    get_seperated_data(data_path, mask_path, target_path)\n",
    "\n",
    "\n",
    "if __name__ == \"__main__\":\n",
    "    main('raw_data')"
   ]
  },
  {
   "cell_type": "code",
   "execution_count": null,
   "metadata": {},
   "outputs": [],
   "source": [
    "import os\n",
    "import numpy as np\n",
    "from PIL import Image\n",
    "import glob\n",
    "\n",
    "data_dir = '../data/20230716_nails/info'\n",
    "\n",
    "case_folders = glob.glob(os.path.join(data_dir, 'case_*'))\n",
    "case_folders\n",
    "\n",
    "for case_folder in case_folders:\n",
    "\n",
    "    case_id = int(case_folder.split('_')[-1])\n",
    "\n",
    "    nails_img = Image.open(f\"{case_folder}/nails.png\")\n",
    "    nails_array = np.array(nails_img)\n",
    "\n",
    "    nails_mask_img = Image.open(f\"{case_folder}/nails_mask.png\")\n",
    "    nails_mask_array = np.array(nails_mask_img)\n",
    "\n",
    "    np.savez(f\"{case_folder}/nails.npz\", \n",
    "             nails=nails_array, \n",
    "             nails_mask=nails_mask_array, \n",
    "             case_id=case_id)\n"
   ]
  },
  {
   "cell_type": "code",
   "execution_count": null,
   "metadata": {},
   "outputs": [],
   "source": [
    "import numpy as np\n",
    "np.load('../data/20230716_nails/info/case_4/nails.npz', allow_pickle=True)['nails']"
   ]
  },
  {
   "cell_type": "code",
   "execution_count": null,
   "metadata": {},
   "outputs": [],
   "source": []
  }
 ],
 "metadata": {
  "kernelspec": {
   "display_name": "base",
   "language": "python",
   "name": "python3"
  },
  "language_info": {
   "codemirror_mode": {
    "name": "ipython",
    "version": 3
   },
   "file_extension": ".py",
   "mimetype": "text/x-python",
   "name": "python",
   "nbconvert_exporter": "python",
   "pygments_lexer": "ipython3",
   "version": "3.9.15"
  }
 },
 "nbformat": 4,
 "nbformat_minor": 2
}
