{
 "cells": [
  {
   "cell_type": "code",
   "execution_count": null,
   "metadata": {},
   "outputs": [],
   "source": [
    "import os \n",
    "import glob\n",
    "import autoroot\n",
    "import shutil\n",
    "import datetime\n",
    "\n",
    "def get_seperated_data(data_path, mask_path, target_path):\n",
    "    filenames = [f for f in os.listdir(data_path)]\n",
    "    for filename in filenames:\n",
    "        case_num = filename.split('.')[0]\n",
    "        os.mkdir(f\"{target_path}/case_{case_num}\")\n",
    "        shutil.copy(f\"{data_path}/{filename}\", f\"{target_path}/case_{case_num}/nails.png\")\n",
    "        shutil.copy(f\"{mask_path}/{filename}\", f\"{target_path}/case_{case_num}/nails_mask.png\")\n",
    "    print(\"Done\")\n",
    "\n",
    "def main():\n",
    "    seperated_time = datetime.datetime.now().strftime(\"%Y-%m-%d\")\n",
    "    target_path = f'../data/nails_datasets'\n",
    "    data_path = '../data/train/train_images'\n",
    "    mask_path = '../data/train/train_masks'\n",
    "    os.makedirs(target_path, exist_ok=True)\n",
    "    get_seperated_data(data_path, mask_path, target_path)\n",
    "\n",
    "if __name__ == \"__main__\":\n",
    "    main()"
   ]
  }
 ],
 "metadata": {
  "kernelspec": {
   "display_name": "base",
   "language": "python",
   "name": "python3"
  },
  "language_info": {
   "codemirror_mode": {
    "name": "ipython",
    "version": 3
   },
   "file_extension": ".py",
   "mimetype": "text/x-python",
   "name": "python",
   "nbconvert_exporter": "python",
   "pygments_lexer": "ipython3",
   "version": "3.9.15"
  },
  "orig_nbformat": 4
 },
 "nbformat": 4,
 "nbformat_minor": 2
}
