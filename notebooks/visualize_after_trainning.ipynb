{
 "cells": [
  {
   "cell_type": "code",
   "execution_count": null,
   "metadata": {},
   "outputs": [],
   "source": [
    "from src.utils.get_visualize import DataVisualizer\n",
    "\n",
    "def check_result():\n",
    "    # TODO: create a function to do simple check for img\n",
    "    # It should be something like:\n",
    "    # Input one img, output 1 label\n",
    "    DataVisualizer()\n",
    "    pass"
   ]
  }
 ],
 "metadata": {
  "language_info": {
   "name": "python"
  }
 },
 "nbformat": 4,
 "nbformat_minor": 2
}
